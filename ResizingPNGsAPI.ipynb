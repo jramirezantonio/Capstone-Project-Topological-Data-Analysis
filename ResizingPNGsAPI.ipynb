{
 "cells": [
  {
   "cell_type": "code",
   "execution_count": 2,
   "id": "5ada382c",
   "metadata": {},
   "outputs": [],
   "source": [
    "from PIL import Image, ImageOps\n",
    "from numpy import asarray\n",
    "import matplotlib.pyplot as plt\n",
    "import numpy as np\n",
    "from itertools import product\n",
    "from PIL import Image\n",
    "from numpy import asarray\n",
    "import math\n",
    "import os\n",
    "from persim import plot_diagrams\n",
    "from ripser import ripser, lower_star_img\n",
    "import scipy\n",
    "from scipy import ndimage\n",
    "\n",
    "def red_regions_index(img_array, n):\n",
    "    a = img_array.shape[0]\n",
    "    b = img_array.shape[1]\n",
    "    A = np.arange(a)\n",
    "    B = np.arange(b)\n",
    "    C = list(product(A, B))\n",
    "    \n",
    "    max_val = img_array[:,:,0].max()\n",
    "    prob = img_array.astype(np.float64)\n",
    "    prob = 1/max_val * img_array\n",
    "    prob = np.exp((np.exp(np.exp(prob))))\n",
    "    max_sum = np.sum(prob[:,:,0])\n",
    "    prob = 1/max_sum * prob\n",
    "    prob = prob[:,:,0].flatten()\n",
    "\n",
    "    index_regions = np.random.choice(len(C), n, replace = False, p = prob)\n",
    "    return index_regions, C\n",
    "\n",
    "def red_regions(img_array, n):\n",
    "    list_red_regions = []\n",
    "    region_indexes, C = red_regions_index(img_array, n)\n",
    "    for x in region_indexes:\n",
    "        if len(img_array[C[x][0]:(C[x][0] + 10), C[x][1]:(C[x][1] + 10)]) == 10:\n",
    "            list_red_regions.append(img_array[C[x][0]:(C[x][0] + 10), C[x][1]:(C[x][1] + 10)][:,:,0])\n",
    "    return list_red_regions"
   ]
  },
  {
   "cell_type": "code",
   "execution_count": 5,
   "id": "5b566b9f",
   "metadata": {},
   "outputs": [],
   "source": [
    "from scipy import sparse\n",
    "def test_lower_star_img(img):\n",
    "    \"\"\"\n",
    "    Construct a lower star filtration on an image\n",
    "\n",
    "    Parameters\n",
    "    ----------\n",
    "    img: ndarray (M, N)\n",
    "        An array of single channel image data\n",
    "\n",
    "    Returns\n",
    "    -------\n",
    "    I: ndarray (K, 2)\n",
    "        A 0-dimensional persistence diagram corresponding to the sublevelset filtration\n",
    "    \"\"\"\n",
    "    m, n = img.shape\n",
    "\n",
    "    idxs = np.arange(m * n).reshape((m, n))\n",
    "\n",
    "    I = idxs.flatten()\n",
    "    J = idxs.flatten()\n",
    "    V = img.flatten()\n",
    "\n",
    "    # Connect 8 spatial neighbors\n",
    "    tidxs = np.ones((m + 2, n + 2), dtype=np.int64) * np.nan\n",
    "    tidxs[1:-1, 1:-1] = idxs\n",
    "\n",
    "    tD = np.ones_like(tidxs) * np.nan\n",
    "    tD[1:-1, 1:-1] = img\n",
    "\n",
    "    for di in [-1, 0, 1]:\n",
    "        for dj in [-1, 0, 1]:\n",
    "\n",
    "            if di == 0 and dj == 0:\n",
    "                continue\n",
    "\n",
    "            thisJ = np.roll(np.roll(tidxs, di, axis=0), dj, axis=1)\n",
    "            thisD = np.roll(np.roll(tD, di, axis=0), dj, axis=1)\n",
    "            thisD = np.maximum(thisD, tD)\n",
    "\n",
    "            # Deal with boundaries\n",
    "            boundary = ~np.isnan(thisD)\n",
    "            thisI = tidxs[boundary]\n",
    "            thisJ = thisJ[boundary]\n",
    "            thisD = thisD[boundary]\n",
    "\n",
    "            I = np.concatenate((I, thisI.flatten()))\n",
    "            J = np.concatenate((J, thisJ.flatten()))\n",
    "            V = np.concatenate((V, thisD.flatten()))\n",
    "\n",
    "    sparseDM = sparse.coo_matrix((V, (I, J)), shape=(idxs.size, idxs.size))\n",
    "\n",
    "    return ripser(sparseDM, distance_matrix=True, maxdim=1)[\"dgms\"]"
   ]
  },
  {
   "cell_type": "code",
   "execution_count": 3,
   "id": "74e8e189",
   "metadata": {},
   "outputs": [],
   "source": [
    "from PIL import Image, ImageOps\n",
    "from numpy import asarray\n",
    "img = Image.open(r\"C:\\Users\\hafid\\OneDrive\\Documents\\Classes\\MATH4020 Project\\PNGs\\TDA from previous project\\train\\frisen_five\\06306895_20181106_Color_0 OD grade V_result.png\")\n",
    "img = img.resize((224, 224))\n",
    "img = ImageOps.grayscale(img)\n",
    "# plt.imshow(img)\n",
    "img.show()\n",
    "\n",
    "# keep track of image #\n",
    "\n",
    "\n",
    "# img_array = asarray(img)\n",
    "# plt.imshow(img_array)\n",
    "# plt.gray()\n",
    "# plt.imshow(1/255 * img_array[:,:,2])\n",
    "\n",
    "# How to store/open all images (crop?)\n",
    "# Find range of all possible image sizes\n",
    "\n",
    "# open all images and resize them to (224, 224) all in grey scale\n",
    "# make 3d np array with length (224, 224, n) -- n = number of images"
   ]
  },
  {
   "cell_type": "code",
   "execution_count": 34,
   "id": "ff211905",
   "metadata": {},
   "outputs": [
    {
     "data": {
      "text/plain": [
       "['frisen_five', 'frisen_four', 'frisen_one', 'frisen_three', 'frisen_two']"
      ]
     },
     "execution_count": 34,
     "metadata": {},
     "output_type": "execute_result"
    }
   ],
   "source": [
    "import os\n",
    "from os import listdir\n",
    "import pickle\n",
    "import matplotlib.pyplot as plt\n",
    "\n",
    "data_folder_path = r\"C:\\Users\\hafid\\OneDrive\\Documents\\Classes\\MATH4020 Project\\PNGs\\TDA from previous project\\train\"\n",
    "\n",
    "def list_of_folders(folder_path):\n",
    "    \"\"\" Get list of subfolders from main folder path\n",
    "        Args: path of main folder (folder_path -- string)\n",
    "        Returns: list of subfolders (folder_dir_list)\n",
    "    \"\"\"\n",
    "    folder_dir_list = os.listdir(folder_path)\n",
    "    return folder_dir_list\n",
    "\n",
    "folders = list_of_folders(data_folder_path)\n",
    "folders"
   ]
  },
  {
   "cell_type": "code",
   "execution_count": 1,
   "id": "b2040093",
   "metadata": {},
   "outputs": [],
   "source": [
    "import os\n",
    "import numpy as np\n",
    "from PIL import Image, ImageOps\n",
    "\n",
    "\n",
    "def process_images(path, new_size):\n",
    "    \"\"\" Process all images (png's) found in given path by resizing each image\n",
    "        and converting to grayscale\n",
    "    \n",
    "    \"\"\"\n",
    "    images = []\n",
    "    for filename in os.listdir(path):\n",
    "        if filename.endswith(\".png\"):\n",
    "            img_path = os.path.join(path, filename)\n",
    "            img = Image.open(img_path)\n",
    "            img_resized = img.resize((new_size, new_size))\n",
    "            \n",
    "            # Convert to grayscale\n",
    "            img_gray = ImageOps.grayscale(img_resized)\n",
    "            images.append(np.array(img_gray))\n",
    "    return np.stack(images, axis=-1)  # Stack images along the last axis"
   ]
  },
  {
   "cell_type": "code",
   "execution_count": 3,
   "id": "66bc443e",
   "metadata": {},
   "outputs": [],
   "source": [
    "dire = r\"C:\\Users\\hafid\\OneDrive\\Documents\\Classes\\MATH4020 Project\\PNGs\\TDA from previous project\\before_split\\frisen_five_with_rotations\"\n",
    "rot_fives = process_images(dire, 224)"
   ]
  },
  {
   "cell_type": "code",
   "execution_count": 6,
   "id": "13a8de80",
   "metadata": {},
   "outputs": [],
   "source": [
    "import pickle\n",
    "\n",
    "with open('rot_fives.pkl', 'wb') as f:\n",
    "    pickle.dump(rot_fives, f)"
   ]
  },
  {
   "cell_type": "code",
   "execution_count": 1,
   "id": "e90eacca",
   "metadata": {
    "scrolled": true
   },
   "outputs": [
    {
     "ename": "NameError",
     "evalue": "name 'folders' is not defined",
     "output_type": "error",
     "traceback": [
      "\u001b[1;31m---------------------------------------------------------------------------\u001b[0m",
      "\u001b[1;31mNameError\u001b[0m                                 Traceback (most recent call last)",
      "Cell \u001b[1;32mIn[1], line 6\u001b[0m\n\u001b[0;32m      4\u001b[0m \u001b[38;5;66;03m# Process each subfolder\u001b[39;00m\n\u001b[0;32m      5\u001b[0m all_arrays \u001b[38;5;241m=\u001b[39m []\n\u001b[1;32m----> 6\u001b[0m \u001b[38;5;28;01mfor\u001b[39;00m subfolder \u001b[38;5;129;01min\u001b[39;00m \u001b[43mfolders\u001b[49m:\n\u001b[0;32m      7\u001b[0m     subfolder_path \u001b[38;5;241m=\u001b[39m os\u001b[38;5;241m.\u001b[39mpath\u001b[38;5;241m.\u001b[39mjoin(root_folder, subfolder)\n\u001b[0;32m      8\u001b[0m     images_array \u001b[38;5;241m=\u001b[39m process_images(subfolder_path)\n",
      "\u001b[1;31mNameError\u001b[0m: name 'folders' is not defined"
     ]
    }
   ],
   "source": [
    "# Root folder containing subfolders\n",
    "root_folder = r\"C:\\Users\\hafid\\OneDrive\\Documents\\Classes\\MATH4020 Project\\PNGs\\TDA from previous project\\train\"\n",
    "\n",
    "# Process each subfolder\n",
    "all_arrays = []\n",
    "for subfolder in folders:\n",
    "    subfolder_path = os.path.join(root_folder, subfolder)\n",
    "    images_array = process_images(subfolder_path)\n",
    "    all_arrays.append(images_array)\n",
    "\n",
    "# Print the shape of each array\n",
    "for i, images_array in enumerate(all_arrays):\n",
    "    print(f'Shape of array for type{i+1}: {images_array.shape}')"
   ]
  },
  {
   "cell_type": "code",
   "execution_count": 12,
   "id": "d64c569e",
   "metadata": {},
   "outputs": [
    {
     "name": "stdout",
     "output_type": "stream",
     "text": [
      "Shape of array for type1: (224, 224, 62)\n"
     ]
    }
   ],
   "source": [
    "for i, images_array in enumerate(all_arrays):\n",
    "    print(f'Shape of array for type{i+1}: {images_array.shape}')"
   ]
  },
  {
   "cell_type": "code",
   "execution_count": 31,
   "id": "b25dd431",
   "metadata": {},
   "outputs": [],
   "source": [
    "zeros_folder = r\"C:\\Users\\hafid\\OneDrive\\Documents\\Classes\\MATH4020 Project\\PNGs\\TDA from previous project\\IIHTT Frisen Zeroes\"\n",
    "\n",
    "frisen_zero_array = []\n",
    "images_array = process_images(zeros_folder)\n",
    "frisen_zero_array.append(images_array)\n",
    "\n",
    "print(f'Shape of array for frisen zero: {frisen_zero_array.shape}')"
   ]
  },
  {
   "cell_type": "code",
   "execution_count": 10,
   "id": "e1099ae5",
   "metadata": {},
   "outputs": [
    {
     "name": "stdout",
     "output_type": "stream",
     "text": [
      "Shape of frisen zero array: (224, 224, 659)\n"
     ]
    }
   ],
   "source": [
    "for i, images_array in enumerate(frisen_zero_array):\n",
    "    print(f'Shape of frisen zero array: {images_array.shape}')"
   ]
  },
  {
   "cell_type": "code",
   "execution_count": 50,
   "id": "e4419d34",
   "metadata": {},
   "outputs": [
    {
     "data": {
      "text/plain": [
       "'frisen_two'"
      ]
     },
     "execution_count": 50,
     "metadata": {},
     "output_type": "execute_result"
    }
   ],
   "source": [
    "folders[4]"
   ]
  },
  {
   "cell_type": "code",
   "execution_count": 36,
   "id": "53047dfb",
   "metadata": {},
   "outputs": [],
   "source": [
    "data_folder_path = r\"C:\\Users\\hafid\\OneDrive\\Documents\\Classes\\MATH4020 Project\\PNGs\\TDA from previous project\\before_split\""
   ]
  },
  {
   "cell_type": "code",
   "execution_count": 51,
   "id": "e08af1d5",
   "metadata": {},
   "outputs": [],
   "source": [
    "subfolder_path = os.path.join(data_folder_path, folders[4])\n",
    "images_array = process_images(subfolder_path, 224)"
   ]
  },
  {
   "cell_type": "code",
   "execution_count": 52,
   "id": "821efada",
   "metadata": {},
   "outputs": [],
   "source": [
    "# Save the arrays using pickle\n",
    "with open('frisen_twos_all.pkl', 'wb') as f:\n",
    "    pickle.dump(images_array, f)"
   ]
  },
  {
   "cell_type": "code",
   "execution_count": 66,
   "id": "a4d4300b",
   "metadata": {},
   "outputs": [],
   "source": [
    "# To load the arrays later:\n",
    "with open('processed_images.pkl', 'rb') as f:\n",
    "    loaded_arrays = pickle.load(f)\n",
    "\n",
    "test_img = loaded_arrays[0][:,:,0]\n",
    "# print(test_img)\n",
    "gray_img = Image.fromarray(test_img)\n",
    "gray_img.show()"
   ]
  },
  {
   "cell_type": "code",
   "execution_count": 63,
   "id": "9bb67ad5",
   "metadata": {},
   "outputs": [
    {
     "name": "stdout",
     "output_type": "stream",
     "text": [
      "[[0 0 0 ... 0 0 0]\n",
      " [0 0 0 ... 0 0 0]\n",
      " [0 0 0 ... 0 0 0]\n",
      " ...\n",
      " [0 0 0 ... 0 0 0]\n",
      " [0 0 0 ... 0 0 0]\n",
      " [0 0 0 ... 0 0 0]]\n"
     ]
    }
   ],
   "source": [
    "test_img = all_arrays[0][:,:,0]\n",
    "print(test_img)\n",
    "# plt.imshow(test_img)"
   ]
  },
  {
   "cell_type": "code",
   "execution_count": 64,
   "id": "2a855460",
   "metadata": {},
   "outputs": [],
   "source": [
    "g_img = Image.fromarray(test_img)\n",
    "g_img.show()"
   ]
  },
  {
   "cell_type": "code",
   "execution_count": null,
   "id": "2c33cec8",
   "metadata": {},
   "outputs": [],
   "source": []
  }
 ],
 "metadata": {
  "kernelspec": {
   "display_name": "Python 3 (ipykernel)",
   "language": "python",
   "name": "python3"
  },
  "language_info": {
   "codemirror_mode": {
    "name": "ipython",
    "version": 3
   },
   "file_extension": ".py",
   "mimetype": "text/x-python",
   "name": "python",
   "nbconvert_exporter": "python",
   "pygments_lexer": "ipython3",
   "version": "3.10.13"
  }
 },
 "nbformat": 4,
 "nbformat_minor": 5
}
